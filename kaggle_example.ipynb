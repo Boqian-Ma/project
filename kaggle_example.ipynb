{
 "cells": [
  {
   "cell_type": "code",
   "execution_count": null,
   "metadata": {},
   "outputs": [],
   "source": [
    "ROOT_DIR = '/Users/adamma/Desktop/2022T2/COMP9471/homework/project/input'"
   ]
  },
  {
   "cell_type": "code",
   "execution_count": null,
   "metadata": {},
   "outputs": [],
   "source": [
    "class CONFIG():\n",
    "  NOTEBOOK_ID = 'diabetic-retinopathy-detection'\n",
    "  TRAIN_CSV = 'trainLabels.csv'\n",
    "\n",
    "  ENABLE_TRAINING = False\n",
    "  \n",
    "  BACKBONE = 'EfficientNetB0'\n",
    "\n",
    "  PRE_TRAINED_WEIGHTS = 'imagenet'\n",
    "\n",
    "  IMAGE_SIZE = (256, 256) # (512, 512)\n",
    "\n",
    "  EPOCHS = 1 # 20 #\n",
    "  \n",
    "  HORIZONTAL_FLIP = True\n",
    "  VERTICAL_FLIP = True\n",
    "  RANDOM_BRIGHTNESS = True\n",
    "  RANDOM_SATURATION = True\n",
    "  RANDOM_GAMMA = False\n",
    "  RANDOM_HUE = True\n",
    "  RANDOM_CONTRAST = True\n",
    "\n",
    "  TRAIN_ATTN_CONV = True\n",
    "    \n",
    "  BATCH_SIZE = 24 # 16 #\n",
    "    \n",
    "  SHUFFLE_BUFFER = max(BATCH_SIZE*25, 500) #\n",
    "\n",
    "  DROPOUT = 0.35\n",
    "\n",
    "  MODEL_SUMMARY = 'summary' # 'plot' #\n",
    "    \n",
    "  SAVED_WEIGHTS_DIR = f'{ROOT_DIR}/diabetic-retinopathy-detection-weights'\n",
    "  SAVED_WEIGHTS = 'output'\n",
    "  SAVED_ATTN_WEIGHTS = 'output_attn'  \n",
    "    \n",
    "  OUT_WEIGHTS = 'output.h5'  \n",
    "  OUT_ATTN_WEIGHTS = 'output_attn.h5'\n",
    "  \n",
    "  VERBOSE = True"
   ]
  },
  {
   "cell_type": "code",
   "execution_count": 2,
   "metadata": {},
   "outputs": [
    {
     "ename": "",
     "evalue": "",
     "output_type": "error",
     "traceback": [
      "\u001b[1;31mThe Kernel crashed while executing code in the the current cell or a previous cell. Please review the code in the cell(s) to identify a possible cause of the failure. Click <a href='https://aka.ms/vscodeJupyterKernelCrash'>here</a> for more info. View Jupyter <a href='command:jupyter.viewOutput'>log</a> for further details."
     ]
    },
    {
     "ename": "",
     "evalue": "",
     "output_type": "error",
     "traceback": [
      "\u001b[1;31mCanceled future for execute_request message before replies were done"
     ]
    }
   ],
   "source": [
    "import os, gc, cv2, numpy as np, pandas as pd\n",
    "\n",
    "import tensorflow as tf, tensorflow_addons as tfa, matplotlib.pyplot as plt\n",
    "\n",
    "# from glob import glob\n",
    "# from skimage.io import imread\n",
    "# # from tensorflow.keras.utils import to_categorical\n",
    "# from sklearn.model_selection import train_test_split\n",
    "\n",
    "# from keras import backend as K\n",
    "# from keras.applications.inception_v3 import preprocess_input\n",
    "\n",
    "%matplotlib inline"
   ]
  },
  {
   "cell_type": "code",
   "execution_count": null,
   "metadata": {},
   "outputs": [],
   "source": []
  }
 ],
 "metadata": {
  "kernelspec": {
   "display_name": "Python 3.7.9 ('venv': venv)",
   "language": "python",
   "name": "python3"
  },
  "language_info": {
   "codemirror_mode": {
    "name": "ipython",
    "version": 3
   },
   "file_extension": ".py",
   "mimetype": "text/x-python",
   "name": "python",
   "nbconvert_exporter": "python",
   "pygments_lexer": "ipython3",
   "version": "3.7.9"
  },
  "orig_nbformat": 4,
  "vscode": {
   "interpreter": {
    "hash": "7b6ce47cef9b33e66d4d15148cba06bb9f0de2d8f50a1c472eec1e8a933dfd40"
   }
  }
 },
 "nbformat": 4,
 "nbformat_minor": 2
}
